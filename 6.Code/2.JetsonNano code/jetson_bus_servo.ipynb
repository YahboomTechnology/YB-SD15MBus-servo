{
 "cells": [
  {
   "cell_type": "code",
   "execution_count": null,
   "metadata": {},
   "outputs": [],
   "source": [
    "# 导入必要的库\n",
    "import RPi.GPIO as GPIO\n",
    "import time\n",
    "import string\n",
    "import serial\n"
   ]
  },
  {
   "cell_type": "code",
   "execution_count": null,
   "metadata": {},
   "outputs": [],
   "source": [
    "#设置GPIO口为BCM编码方式\n",
    "GPIO.setmode(GPIO.BCM)\n",
    "\n",
    "#忽略警告信息\n",
    "GPIO.setwarnings(False)"
   ]
  },
  {
   "cell_type": "code",
   "execution_count": null,
   "metadata": {},
   "outputs": [],
   "source": [
    "#初始化串口，如果因权限问题，请打开系统终端，运行命令获取权限\n",
    "# sudo chmod 777 /dev/ttyTHS1\n",
    "ser = serial.Serial(\"/dev/ttyTHS1\", 115200, timeout = .01)\n",
    "#print(\"serial.isOpen()\")"
   ]
  },
  {
   "cell_type": "code",
   "execution_count": null,
   "metadata": {},
   "outputs": [],
   "source": [
    "#控制舵机，index为舵机的ID号，value为舵机的位置，s_time为舵机的运行时间\n",
    "def Servo_control(index, value, s_time):\n",
    "    pack1 = 0xff\n",
    "    pack2 = 0xff\n",
    "    id = index & 0xff\n",
    "    len = 0x07\n",
    "    cmd = 0x03\n",
    "    addr = 0x2A\n",
    "    pos1 = (value >> 8) & 0x00ff\n",
    "    pos2 =  value & 0x00ff \n",
    "    time1 = (s_time >> 8) & 0x00ff\n",
    "    time2 = s_time & 0x00ff\n",
    "    checknum = (~(id + len + cmd + addr + pos1 + pos2 + time1 + time2)) & 0xff\n",
    "\n",
    "    data = [pack1, pack2, id, len, cmd, addr, pos1, pos2, time1, time2, checknum]\n",
    "#     print(bytes(data))\n",
    "    ser.write(bytes(data))\n"
   ]
  },
  {
   "cell_type": "code",
   "execution_count": null,
   "metadata": {},
   "outputs": [],
   "source": [
    "# 设置舵机ID号\n",
    "def Servo_Set_ID(index):\n",
    "    if index < 1 or index > 250:\n",
    "        return None\n",
    "    \n",
    "    pack1 = 0xff\n",
    "    pack2 = 0xff\n",
    "    id = 0xfe\n",
    "    len = 0x04\n",
    "    cmd = 0x03\n",
    "    addr = 0x05\n",
    "    set_id = index & 0xff\n",
    "\n",
    "    checknum = (~(id + len + cmd + addr + set_id)) & 0xff\n",
    "\n",
    "    data = [pack1, pack2, id, len, cmd, addr, set_id, checknum]\n",
    "#     print(bytes(data))\n",
    "    ser.write(bytes(data))"
   ]
  },
  {
   "cell_type": "code",
   "execution_count": null,
   "metadata": {},
   "outputs": [],
   "source": [
    "def main():\n",
    "    index = 0x01\n",
    "    \n",
    "    Servo_Set_ID(index)\n",
    "    time.sleep(.1)\n",
    "    \n",
    "    \n",
    "    while True:\n",
    "        Servo_control(index, 3100, 1000)\n",
    "        time.sleep(2)\n",
    "        Servo_control(index, 900, 1000)\n",
    "        time.sleep(2)"
   ]
  },
  {
   "cell_type": "code",
   "execution_count": null,
   "metadata": {},
   "outputs": [],
   "source": [
    "try:\n",
    "    main()\n",
    "except KeyboardInterrupt:\n",
    "    pass\n",
    "\n",
    "ser.close()\n",
    "GPIO.cleanup()"
   ]
  },
  {
   "cell_type": "code",
   "execution_count": null,
   "metadata": {},
   "outputs": [],
   "source": []
  }
 ],
 "metadata": {
  "kernelspec": {
   "display_name": "Python 3",
   "language": "python",
   "name": "python3"
  },
  "language_info": {
   "codemirror_mode": {
    "name": "ipython",
    "version": 3
   },
   "file_extension": ".py",
   "mimetype": "text/x-python",
   "name": "python",
   "nbconvert_exporter": "python",
   "pygments_lexer": "ipython3",
   "version": "3.6.9"
  }
 },
 "nbformat": 4,
 "nbformat_minor": 4
}
